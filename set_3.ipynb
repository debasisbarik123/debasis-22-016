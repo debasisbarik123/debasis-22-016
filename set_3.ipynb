{
  "nbformat": 4,
  "nbformat_minor": 0,
  "metadata": {
    "colab": {
      "provenance": [],
      "authorship_tag": "ABX9TyPtqnA2S2pOInwrSL3C8MUR",
      "include_colab_link": true
    },
    "kernelspec": {
      "name": "python3",
      "display_name": "Python 3"
    },
    "language_info": {
      "name": "python"
    }
  },
  "cells": [
    {
      "cell_type": "markdown",
      "metadata": {
        "id": "view-in-github",
        "colab_type": "text"
      },
      "source": [
        "<a href=\"https://colab.research.google.com/github/debasisbarik123/debasis-22-016/blob/main/set_3.ipynb\" target=\"_parent\"><img src=\"https://colab.research.google.com/assets/colab-badge.svg\" alt=\"Open In Colab\"/></a>"
      ]
    },
    {
      "cell_type": "code",
      "execution_count": null,
      "metadata": {
        "colab": {
          "base_uri": "https://localhost:8080/"
        },
        "id": "tgP3E932mVsR",
        "outputId": "4a595ee7-c894-4c17-92fb-b3244a89b7ee"
      },
      "outputs": [
        {
          "output_type": "stream",
          "name": "stdout",
          "text": [
            "enter the rows5\n",
            "\n",
            "1\n",
            "22\n",
            "333\n",
            "4444\n",
            "55555\n"
          ]
        }
      ],
      "source": [
        "rows=int(input(\"enter the rows\"))\n",
        "for i in range(0,rows+1):\n",
        "  for j in range(i):\n",
        "    print(i,end=\"\")\n",
        "  print()"
      ]
    },
    {
      "cell_type": "code",
      "source": [
        "n=5\n",
        "for k in range(n,0,-1):\n",
        "  dg=k\n",
        "  for m in range(0,k):\n",
        "    print(dg,end=\"\")\n",
        "  print(\"\\r\")"
      ],
      "metadata": {
        "colab": {
          "base_uri": "https://localhost:8080/"
        },
        "id": "tZKRBL_goHcw",
        "outputId": "d6ad3f83-2989-46cb-f9e3-064547a7f299"
      },
      "execution_count": null,
      "outputs": [
        {
          "output_type": "stream",
          "name": "stdout",
          "text": [
            "55555\r\n",
            "4444\r\n",
            "333\r\n",
            "22\r\n",
            "1\r\n"
          ]
        }
      ]
    },
    {
      "cell_type": "code",
      "source": [
        "rows=5\n",
        "for i in range(1,6):\n",
        "      print(str(i)*(i))\n",
        "\n",
        "\n",
        "for i in range(4,0,-1):\n",
        "    print(str(i)*(i))"
      ],
      "metadata": {
        "colab": {
          "base_uri": "https://localhost:8080/"
        },
        "id": "V66WDna0ory6",
        "outputId": "87350290-9aa4-44c4-eb56-4e5d81fc015d"
      },
      "execution_count": null,
      "outputs": [
        {
          "output_type": "stream",
          "name": "stdout",
          "text": [
            "1\n",
            "22\n",
            "333\n",
            "4444\n",
            "55555\n",
            "4444\n",
            "333\n",
            "22\n",
            "1\n"
          ]
        }
      ]
    },
    {
      "cell_type": "code",
      "source": [
        "rows=5\n",
        "b=0\n",
        "for i in range(rows,0,-1):\n",
        "  b+=1\n",
        "  for j in range(1,i+1):\n",
        "    print(b,end=\"\")\n",
        "\n",
        "print(\"\\r\")"
      ],
      "metadata": {
        "colab": {
          "base_uri": "https://localhost:8080/"
        },
        "id": "_diHUZ4Wo9Dr",
        "outputId": "e22aaae7-b5ff-4fe6-b10f-dc047a1c74f0"
      },
      "execution_count": null,
      "outputs": [
        {
          "output_type": "stream",
          "name": "stdout",
          "text": [
            "111112222333445\r\n"
          ]
        }
      ]
    },
    {
      "cell_type": "code",
      "source": [
        "rows=5\n",
        "num=rows\n",
        "for i in range(rows,0,-1):\n",
        "  for j in range(0,i):\n",
        "    print(num,end=\"\")\n",
        "print(\"\\r\")"
      ],
      "metadata": {
        "colab": {
          "base_uri": "https://localhost:8080/"
        },
        "id": "rok3A8PXpInf",
        "outputId": "a2830cf1-1cfc-482f-871b-dbb152d95938"
      },
      "execution_count": null,
      "outputs": [
        {
          "output_type": "stream",
          "name": "stdout",
          "text": [
            "555555555555555\r\n"
          ]
        }
      ]
    },
    {
      "cell_type": "code",
      "source": [
        "rows=5\n",
        "for i in range(rows,0,-1):\n",
        "  for j in range(0,i+1):\n",
        "    print(j,end=\"\")\n",
        "\n",
        "  print(\"\\r\")"
      ],
      "metadata": {
        "colab": {
          "base_uri": "https://localhost:8080/"
        },
        "id": "0SttSyt6pTNi",
        "outputId": "69beebb8-6d32-4768-e1c3-7b97a94eb4d9"
      },
      "execution_count": null,
      "outputs": [
        {
          "output_type": "stream",
          "name": "stdout",
          "text": [
            "012345\r\n",
            "01234\r\n",
            "0123\r\n",
            "012\r\n",
            "01\r\n"
          ]
        }
      ]
    },
    {
      "cell_type": "code",
      "source": [
        "rows=6\n",
        "for i in range(1,rows):\n",
        "  for j in range(i,0,-1):\n",
        "    print(j,end=\"\")\n",
        "print(\"\")"
      ],
      "metadata": {
        "colab": {
          "base_uri": "https://localhost:8080/"
        },
        "id": "KJEC86vPpfp3",
        "outputId": "e4dfb9ca-f4cb-4813-9f10-bf286be3c673"
      },
      "execution_count": null,
      "outputs": [
        {
          "output_type": "stream",
          "name": "stdout",
          "text": [
            "121321432154321\n"
          ]
        }
      ]
    },
    {
      "cell_type": "code",
      "source": [
        "rows=8\n",
        "for i in range(1,rows+1):\n",
        "  for j in range(1,i+1):\n",
        "    sq=i*j\n",
        "    print(i*j,end=\"  \")\n",
        "print(\"\\r\")"
      ],
      "metadata": {
        "colab": {
          "base_uri": "https://localhost:8080/"
        },
        "id": "7YF8mYWeqC9V",
        "outputId": "a99027e8-ef24-49ce-bcc9-a6797e5083d4"
      },
      "execution_count": null,
      "outputs": [
        {
          "output_type": "stream",
          "name": "stdout",
          "text": [
            "1  2  4  3  6  9  4  8  12  16  5  10  15  20  25  6  12  18  24  30  36  7  14  21  28  35  42  49  8  16  24  32  40  48  56  64  \r\n"
          ]
        }
      ]
    },
    {
      "cell_type": "code",
      "source": [
        "rows=5\n",
        "l=2*rows-2\n",
        "for i in range(0,rows):\n",
        "  for j in range(0,l):\n",
        "    print(end=\" \")\n",
        "  l=l-2\n",
        "  for j in range(0,i+1):\n",
        "    print(\"*\",end=\" \")\n",
        "\n",
        "    print(\"\")"
      ],
      "metadata": {
        "colab": {
          "base_uri": "https://localhost:8080/"
        },
        "id": "F9Px6kuQqO5Z",
        "outputId": "c4b7c509-030e-4eed-cccb-c92405f98126"
      },
      "execution_count": null,
      "outputs": [
        {
          "output_type": "stream",
          "name": "stdout",
          "text": [
            "        * \n",
            "      * \n",
            "* \n",
            "    * \n",
            "* \n",
            "* \n",
            "  * \n",
            "* \n",
            "* \n",
            "* \n",
            "* \n",
            "* \n",
            "* \n",
            "* \n",
            "* \n"
          ]
        }
      ]
    },
    {
      "cell_type": "code",
      "source": [
        "for i in range(5,0,-1):\n",
        "  for j in range(i,6):\n",
        "    print(i,end=\"\")\n",
        "\n",
        "print()"
      ],
      "metadata": {
        "colab": {
          "base_uri": "https://localhost:8080/"
        },
        "id": "grwOz-fcqccD",
        "outputId": "c128ca45-2dd4-4f68-b1ef-32d6a6e8d2e6"
      },
      "execution_count": null,
      "outputs": [
        {
          "output_type": "stream",
          "name": "stdout",
          "text": [
            "544333222211111\n"
          ]
        }
      ]
    },
    {
      "cell_type": "code",
      "source": [
        "rows=70\n",
        "for i in range(65,rows):\n",
        "  for j in range(65,i+1):\n",
        "      print(chr(i),end=\" \")\n",
        "print(\"\")"
      ],
      "metadata": {
        "colab": {
          "base_uri": "https://localhost:8080/"
        },
        "id": "gM2isElrqkd6",
        "outputId": "3ce029fd-f185-4ff3-d5a4-532b7730aa2d"
      },
      "execution_count": null,
      "outputs": [
        {
          "output_type": "stream",
          "name": "stdout",
          "text": [
            "A B B C C C D D D D E E E E E \n"
          ]
        }
      ]
    },
    {
      "cell_type": "code",
      "source": [
        "for i in range(5,0,-1):\n",
        "  print(str(i)*(i))\n",
        "for i in range(1,6):\n",
        "   print(str(i)*(i))"
      ],
      "metadata": {
        "colab": {
          "base_uri": "https://localhost:8080/"
        },
        "id": "OFQtPaCfq4Jq",
        "outputId": "7a2bb22d-e8ff-45c2-d092-2767af5ca770"
      },
      "execution_count": null,
      "outputs": [
        {
          "output_type": "stream",
          "name": "stdout",
          "text": [
            "55555\n",
            "4444\n",
            "333\n",
            "22\n",
            "1\n",
            "1\n",
            "22\n",
            "333\n",
            "4444\n",
            "55555\n"
          ]
        }
      ]
    },
    {
      "cell_type": "code",
      "source": [
        "rows=5\n",
        "for i in range(rows):\n",
        "\n",
        "\n",
        "    print(\" \" * (rows-i-1)+\"#\"*(i*2+1))"
      ],
      "metadata": {
        "colab": {
          "base_uri": "https://localhost:8080/"
        },
        "id": "E9iq-dz5q_38",
        "outputId": "f1aac7b2-f288-4ba2-f26a-b995dd7c1f5a"
      },
      "execution_count": null,
      "outputs": [
        {
          "output_type": "stream",
          "name": "stdout",
          "text": [
            "    #\n",
            "   ###\n",
            "  #####\n",
            " #######\n",
            "#########\n"
          ]
        }
      ]
    },
    {
      "cell_type": "code",
      "source": [
        "def pattern(n):\n",
        " for i in range(1,n+1):\n",
        "    print(str(i)*(n-i+1))\n",
        " for i in range (n-1,0,-1):\n",
        "  print(str(i)*(n-i+1))\n",
        "pattern(5)"
      ],
      "metadata": {
        "colab": {
          "base_uri": "https://localhost:8080/"
        },
        "id": "PdSDHVWOsCuJ",
        "outputId": "c32476f7-c7a6-451e-fc73-0e30260bd0ac"
      },
      "execution_count": null,
      "outputs": [
        {
          "output_type": "stream",
          "name": "stdout",
          "text": [
            "11111\n",
            "2222\n",
            "333\n",
            "44\n",
            "5\n",
            "44\n",
            "333\n",
            "2222\n",
            "11111\n"
          ]
        }
      ]
    },
    {
      "cell_type": "code",
      "source": [
        "rows=70\n",
        "l=2*rows-2\n",
        "for i in range(65,rows):\n",
        "  for j in range(65,i+l):\n",
        "    print(end=\" \")\n",
        "  l=l-2\n",
        "  for j in range(65,i+1):\n",
        "    print(chr(i),end=\" \")\n",
        "print(\"\")"
      ],
      "metadata": {
        "colab": {
          "base_uri": "https://localhost:8080/"
        },
        "id": "ClHcQZ-BsM2i",
        "outputId": "a4abd9f4-ec9b-4b18-de99-0eda799e2bb8"
      },
      "execution_count": null,
      "outputs": [
        {
          "output_type": "stream",
          "name": "stdout",
          "text": [
            "                                                                                                                                          A                                                                                                                                          B B                                                                                                                                         C C C                                                                                                                                        D D D D                                                                                                                                       E E E E E \n"
          ]
        }
      ]
    }
  ]
}