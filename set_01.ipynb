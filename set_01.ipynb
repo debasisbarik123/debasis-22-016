{
  "nbformat": 4,
  "nbformat_minor": 0,
  "metadata": {
    "colab": {
      "provenance": [],
      "authorship_tag": "ABX9TyM+ILo6ZKOfcv6Y2wWC76ey",
      "include_colab_link": true
    },
    "kernelspec": {
      "name": "python3",
      "display_name": "Python 3"
    },
    "language_info": {
      "name": "python"
    }
  },
  "cells": [
    {
      "cell_type": "markdown",
      "metadata": {
        "id": "view-in-github",
        "colab_type": "text"
      },
      "source": [
        "<a href=\"https://colab.research.google.com/github/debasisbarik123/debasis-22-016/blob/main/set_01.ipynb\" target=\"_parent\"><img src=\"https://colab.research.google.com/assets/colab-badge.svg\" alt=\"Open In Colab\"/></a>"
      ]
    },
    {
      "cell_type": "code",
      "execution_count": null,
      "metadata": {
        "colab": {
          "base_uri": "https://localhost:8080/"
        },
        "id": "0qJRwXCmlBIK",
        "outputId": "b2082e69-79c2-42cc-a3fa-29f933e9342c"
      },
      "outputs": [
        {
          "output_type": "stream",
          "name": "stdout",
          "text": [
            "enter the b =3\n",
            "enter h=4\n",
            "area of triangle= 6.0\n",
            "enter a=3\n",
            "enter b =6\n",
            "enter c=7\n",
            "perimeterbof triangle= 126\n"
          ]
        }
      ],
      "source": [
        "#to find area and perimeter\n",
        "#triangle area=1/2*b*h\n",
        "b=int(input(\"enter the b =\"))\n",
        "h=int(input(\"enter h=\"))\n",
        "area=0.5*b*h\n",
        "print(\"area of triangle=\",area)\n",
        "# triangle perimeter=a+b+c\n",
        "a=int(input(\"enter a=\"))\n",
        "b=int(input(\"enter b =\"))\n",
        "c=int(input(\"enter c=\"))\n",
        "perimeter=a*b*c\n",
        "print(\"perimeterbof triangle=\",perimeter)"
      ]
    },
    {
      "cell_type": "code",
      "source": [],
      "metadata": {
        "id": "4r8k-TdFpabG"
      },
      "execution_count": null,
      "outputs": []
    },
    {
      "cell_type": "code",
      "source": [
        "for i in \"ABIT\":\n",
        " if i==\"B\":\n",
        "  continue\n",
        " print(i)"
      ],
      "metadata": {
        "colab": {
          "base_uri": "https://localhost:8080/"
        },
        "id": "mSRCFuOmp0JY",
        "outputId": "37b78992-c71e-4278-bafa-437a28df392a"
      },
      "execution_count": null,
      "outputs": [
        {
          "output_type": "stream",
          "name": "stdout",
          "text": [
            "A\n",
            "I\n",
            "T\n"
          ]
        }
      ]
    },
    {
      "cell_type": "code",
      "source": [
        "for i in range(10):\n",
        "  print(i)\n",
        "  if i==2:\n",
        "       break"
      ],
      "metadata": {
        "colab": {
          "base_uri": "https://localhost:8080/"
        },
        "id": "t6qigaWjpuPg",
        "outputId": "9c335e0f-ce0c-4c41-d3ef-777fef03f38e"
      },
      "execution_count": null,
      "outputs": [
        {
          "output_type": "stream",
          "name": "stdout",
          "text": [
            "0\n",
            "1\n",
            "2\n"
          ]
        }
      ]
    },
    {
      "cell_type": "code",
      "source": [
        "x=abs(-3.35)\n",
        "print(x)"
      ],
      "metadata": {
        "colab": {
          "base_uri": "https://localhost:8080/"
        },
        "id": "AKHFDh05tPHp",
        "outputId": "ad64ed78-77be-44ee-e7eb-50b18c72f6b8"
      },
      "execution_count": null,
      "outputs": [
        {
          "output_type": "stream",
          "name": "stdout",
          "text": [
            "3.35\n"
          ]
        }
      ]
    },
    {
      "cell_type": "code",
      "source": [
        "#all()\n",
        "list=[0,2,2]\n",
        "a=all(list)\n",
        "print(a)\n"
      ],
      "metadata": {
        "colab": {
          "base_uri": "https://localhost:8080/"
        },
        "id": "mKSP2LfgvJLz",
        "outputId": "e582b9ad-1765-4168-a25b-cad45a8c7f02"
      },
      "execution_count": null,
      "outputs": [
        {
          "output_type": "stream",
          "name": "stdout",
          "text": [
            "False\n"
          ]
        }
      ]
    },
    {
      "cell_type": "code",
      "source": [
        "#any()\n",
        "tuple(0,1,False)"
      ],
      "metadata": {
        "id": "RPigM8L4vqEj"
      },
      "execution_count": null,
      "outputs": []
    },
    {
      "cell_type": "code",
      "source": [
        "#ascii()\n",
        "a=ascii(\"mostly same\")\n",
        "print(a)"
      ],
      "metadata": {
        "id": "noOT7JAjwyqS",
        "colab": {
          "base_uri": "https://localhost:8080/"
        },
        "outputId": "15b663fe-0c88-40a8-80b2-f5a477480cd9"
      },
      "execution_count": null,
      "outputs": [
        {
          "output_type": "stream",
          "name": "stdout",
          "text": [
            "'mostly same'\n"
          ]
        }
      ]
    },
    {
      "cell_type": "code",
      "source": [
        "#user defined function\n",
        "def show():\n",
        "  print(\"hellow cse\")"
      ],
      "metadata": {
        "id": "-5qsAkOqymyi"
      },
      "execution_count": null,
      "outputs": []
    },
    {
      "cell_type": "code",
      "source": [
        "#passing parameter in user defined function using keyboard\n",
        "def ADD(a,b):\n",
        "  c=a+b\n",
        "print('sum of two no=',c)\n",
        "p=int(input('enter 1st no='))\n",
        "q=int(input('enter 2nd no='))\n",
        "ADD(p,q)"
      ],
      "metadata": {
        "colab": {
          "base_uri": "https://localhost:8080/"
        },
        "id": "VgF42nuZ0L00",
        "outputId": "0d817354-31df-48f0-e709-091cc96c90fe"
      },
      "execution_count": null,
      "outputs": [
        {
          "name": "stdout",
          "output_type": "stream",
          "text": [
            "sum of two no= 7\n",
            "enter 1st no=4\n",
            "enter 2nd no=7\n"
          ]
        }
      ]
    },
    {
      "cell_type": "code",
      "source": [
        "#using return statement in user defined function\n",
        "def sumofn(n):\n",
        "  s=0\n",
        "for i in range(1,n+1):\n",
        "  s=s+i\n",
        "  return(s)\n",
        "m=int(input(\"enter n=\"))\n",
        "  print('sum of n=',sumofn(m))\n"
      ],
      "metadata": {
        "id": "CLJ2UBrO1aP7",
        "colab": {
          "base_uri": "https://localhost:8080/",
          "height": 106
        },
        "outputId": "3c302039-2be9-46e6-8daa-2fd41166f49a"
      },
      "execution_count": null,
      "outputs": [
        {
          "output_type": "error",
          "ename": "IndentationError",
          "evalue": "unexpected indent (<ipython-input-15-61e6d6a42d4c>, line 8)",
          "traceback": [
            "\u001b[0;36m  File \u001b[0;32m\"<ipython-input-15-61e6d6a42d4c>\"\u001b[0;36m, line \u001b[0;32m8\u001b[0m\n\u001b[0;31m    print('sum of n=',sumofn(m))\u001b[0m\n\u001b[0m    ^\u001b[0m\n\u001b[0;31mIndentationError\u001b[0m\u001b[0;31m:\u001b[0m unexpected indent\n"
          ]
        }
      ]
    },
    {
      "cell_type": "code",
      "source": [
        "  p=int(input('enter the rows'))\n",
        "  number=1\n",
        "  for i in range(1,p+1):\n",
        "    for j in range(1,i+1):\n",
        "      print(number,end=\"\")\n",
        "      number=number+1\n",
        "    print()"
      ],
      "metadata": {
        "colab": {
          "base_uri": "https://localhost:8080/"
        },
        "id": "9BEKhRV63Xcl",
        "outputId": "e831caab-636d-4e3c-89c2-80d8cc40ba8a"
      },
      "execution_count": null,
      "outputs": [
        {
          "output_type": "stream",
          "name": "stdout",
          "text": [
            "enter the rows5\n",
            "1\n",
            "23\n",
            "456\n",
            "78910\n",
            "1112131415\n"
          ]
        }
      ]
    },
    {
      "cell_type": "code",
      "source": [
        "list=['i','love','python','ABIT']\n",
        "print(list)"
      ],
      "metadata": {
        "colab": {
          "base_uri": "https://localhost:8080/"
        },
        "id": "xjRQzMjI-_3Y",
        "outputId": "886884ca-39ad-4b4e-f41f-0a2409760b4b"
      },
      "execution_count": null,
      "outputs": [
        {
          "output_type": "stream",
          "name": "stdout",
          "text": [
            "['i', 'love', 'python', 'ABIT']\n"
          ]
        }
      ]
    },
    {
      "cell_type": "code",
      "source": [
        "list=[10,20,30,40,50,60,70,80,90]\n",
        "print(list[2:6])"
      ],
      "metadata": {
        "colab": {
          "base_uri": "https://localhost:8080/"
        },
        "id": "DGY5P3lcAg8m",
        "outputId": "dfaed461-6f26-49e5-ae98-aadd06af0244"
      },
      "execution_count": null,
      "outputs": [
        {
          "output_type": "stream",
          "name": "stdout",
          "text": [
            "[30, 40, 50, 60]\n"
          ]
        }
      ]
    },
    {
      "cell_type": "code",
      "source": [
        "list=[10,20,30,40,50,60,70,80,90]\n",
        "print(list[:4])"
      ],
      "metadata": {
        "colab": {
          "base_uri": "https://localhost:8080/"
        },
        "id": "5d5GQg5vBVzF",
        "outputId": "1cabebbf-2d4f-4378-c598-5510323a494c"
      },
      "execution_count": null,
      "outputs": [
        {
          "output_type": "stream",
          "name": "stdout",
          "text": [
            "[10, 20, 30, 40]\n"
          ]
        }
      ]
    },
    {
      "cell_type": "code",
      "source": [
        "list=[10,20,30,40,50,60,70,80,90]\n",
        "print(list[4:])"
      ],
      "metadata": {
        "id": "P60BUk4UBmIC",
        "outputId": "0c22a0b2-41ca-4c5c-ecd2-5bec43f475cf",
        "colab": {
          "base_uri": "https://localhost:8080/"
        }
      },
      "execution_count": null,
      "outputs": [
        {
          "output_type": "stream",
          "name": "stdout",
          "text": [
            "[50, 60, 70, 80, 90]\n"
          ]
        }
      ]
    }
  ]
}