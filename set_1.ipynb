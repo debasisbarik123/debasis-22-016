{
  "nbformat": 4,
  "nbformat_minor": 0,
  "metadata": {
    "colab": {
      "provenance": [],
      "authorship_tag": "ABX9TyNKItJfZec3vtl92blta4zs",
      "include_colab_link": true
    },
    "kernelspec": {
      "name": "python3",
      "display_name": "Python 3"
    },
    "language_info": {
      "name": "python"
    }
  },
  "cells": [
    {
      "cell_type": "markdown",
      "metadata": {
        "id": "view-in-github",
        "colab_type": "text"
      },
      "source": [
        "<a href=\"https://colab.research.google.com/github/debasisbarik123/debasis-22-016/blob/main/set_1.ipynb\" target=\"_parent\"><img src=\"https://colab.research.google.com/assets/colab-badge.svg\" alt=\"Open In Colab\"/></a>"
      ]
    },
    {
      "cell_type": "code",
      "execution_count": null,
      "metadata": {
        "colab": {
          "base_uri": "https://localhost:8080/"
        },
        "id": "ScDSqmlqEiBY",
        "outputId": "40788908-55fb-4349-f434-b61888d2c588"
      },
      "outputs": [
        {
          "output_type": "stream",
          "name": "stdout",
          "text": [
            "enter the rows 5\n",
            "\n",
            "1\n",
            "22\n",
            "333\n",
            "4444\n",
            "55555\n"
          ]
        }
      ],
      "source": [
        "rows=int(input(\"enter the rows\"))\n",
        "\n",
        "for i in range (0,rows+1):\n",
        "    for j in range(i):\n",
        "\n",
        "      print(i,end=\"\")\n",
        "    print()"
      ]
    },
    {
      "cell_type": "code",
      "source": [
        "n=5\n",
        "for k in range(n,0,-1):\n",
        "   dg=k\n",
        "   for m in range(0,k):\n",
        "     print(dg,end=\"\")\n",
        "   print('\\r')"
      ],
      "metadata": {
        "colab": {
          "base_uri": "https://localhost:8080/"
        },
        "id": "E8v8ZmeWGauF",
        "outputId": "07cd4099-9c7a-486d-89f7-524ffeda0391"
      },
      "execution_count": null,
      "outputs": [
        {
          "output_type": "stream",
          "name": "stdout",
          "text": [
            "55555\r\n",
            "4444\r\n",
            "333\r\n",
            "22\r\n",
            "1\r\n"
          ]
        }
      ]
    },
    {
      "cell_type": "code",
      "source": [
        "rows=5\n",
        "b=0\n",
        "for i in range (rows,0,-1):\n",
        "   b+=1\n",
        "   for j in range(1,i+1):\n",
        "      print(b,end=\"\")\n",
        "   print(\"\\r\")"
      ],
      "metadata": {
        "colab": {
          "base_uri": "https://localhost:8080/"
        },
        "id": "dJBL9gk6HIuD",
        "outputId": "d6651e94-b5f6-4bfb-c68c-0aeadc9f88e2"
      },
      "execution_count": null,
      "outputs": [
        {
          "output_type": "stream",
          "name": "stdout",
          "text": [
            "11111\r\n",
            "2222\r\n",
            "333\r\n",
            "44\r\n",
            "5\r\n"
          ]
        }
      ]
    },
    {
      "cell_type": "code",
      "source": [
        "rows=5\n",
        "num=rows\n",
        "for i in range(rows,0,-1):\n",
        "  for j in range(0,i):\n",
        "   print(num,end=\"\")\n",
        "  print(\"\\r\")"
      ],
      "metadata": {
        "colab": {
          "base_uri": "https://localhost:8080/"
        },
        "id": "q0Nw9i9dIjmP",
        "outputId": "ed1e3673-c571-4e26-d638-03b115b0cef9"
      },
      "execution_count": null,
      "outputs": [
        {
          "output_type": "stream",
          "name": "stdout",
          "text": [
            "55555\r\n",
            "5555\r\n",
            "555\r\n",
            "55\r\n",
            "5\r\n"
          ]
        }
      ]
    },
    {
      "cell_type": "code",
      "source": [
        "rows=5\n",
        "for i in range(rows,0,-1):\n",
        "  for j in range(0,i+1):\n",
        "    print(j,end=\"\")\n",
        "  print(\"\\r\")"
      ],
      "metadata": {
        "colab": {
          "base_uri": "https://localhost:8080/"
        },
        "id": "5ez7bqV3ITLw",
        "outputId": "590ca900-cbcb-464e-fd95-fbe76fc6a42c"
      },
      "execution_count": null,
      "outputs": [
        {
          "output_type": "stream",
          "name": "stdout",
          "text": [
            "012345\r\n",
            "01234\r\n",
            "0123\r\n",
            "012\r\n",
            "01\r\n"
          ]
        }
      ]
    },
    {
      "cell_type": "code",
      "source": [
        "rows=n\n",
        "for i in range(1,6):\n",
        "  print(str(i)*(i))\n",
        "\n",
        "\n",
        "\n",
        "for i in range(4,0,-1):\n",
        "  print(str(i)*(i))\n"
      ],
      "metadata": {
        "colab": {
          "base_uri": "https://localhost:8080/"
        },
        "id": "jq9--LsTKdzF",
        "outputId": "5b7a6bd2-d368-4048-d295-481890ed8753"
      },
      "execution_count": null,
      "outputs": [
        {
          "output_type": "stream",
          "name": "stdout",
          "text": [
            "1\n",
            "22\n",
            "333\n",
            "4444\n",
            "55555\n",
            "4444\n",
            "333\n",
            "22\n",
            "1\n"
          ]
        }
      ]
    },
    {
      "cell_type": "code",
      "source": [
        "rows=5\n",
        "for i in range (1,rows):\n",
        "  for j in range(i,0,-1):\n",
        "      print(j,end=\"\")\n",
        "  print(\"\")"
      ],
      "metadata": {
        "colab": {
          "base_uri": "https://localhost:8080/"
        },
        "id": "dJuLBYdDLCBX",
        "outputId": "2d69b936-9dfb-4dee-e98d-d2c68a9dd50b"
      },
      "execution_count": null,
      "outputs": [
        {
          "output_type": "stream",
          "name": "stdout",
          "text": [
            "1\n",
            "21\n",
            "321\n",
            "4321\n"
          ]
        }
      ]
    },
    {
      "cell_type": "code",
      "source": [
        "rows=8\n",
        "for i in range(1,rows+1):\n",
        "  for j in range(1,i+1):\n",
        "    sq=i*j\n",
        "    print(i*j,end=\"  \")\n",
        "\n",
        "  print(\"\\r\")"
      ],
      "metadata": {
        "colab": {
          "base_uri": "https://localhost:8080/"
        },
        "id": "xt1RO6hCNFbm",
        "outputId": "f12cfb1a-c354-4df3-e7e6-2f77580694aa"
      },
      "execution_count": null,
      "outputs": [
        {
          "output_type": "stream",
          "name": "stdout",
          "text": [
            "1  \r\n",
            "2  4  \r\n",
            "3  6  9  \r\n",
            "4  8  12  16  \r\n",
            "5  10  15  20  25  \r\n",
            "6  12  18  24  30  36  \r\n",
            "7  14  21  28  35  42  49  \r\n",
            "8  16  24  32  40  48  56  64  \r\n"
          ]
        }
      ]
    },
    {
      "cell_type": "code",
      "source": [
        "rows=5\n",
        "l=2*rows-2\n",
        "for i in range(0,rows):\n",
        "  for j in range(0,l):\n",
        "    print(end=\"  \")\n",
        "  l=l-2\n",
        "  for j in range(0,i+1):\n",
        "    print(\"*\",end=\"  \")\n",
        "  print(\"\")"
      ],
      "metadata": {
        "colab": {
          "base_uri": "https://localhost:8080/"
        },
        "id": "lDoowUPINwad",
        "outputId": "b786b4a5-9a4b-43ca-8c93-d461a9664ecf"
      },
      "execution_count": null,
      "outputs": [
        {
          "output_type": "stream",
          "name": "stdout",
          "text": [
            "                *  \n",
            "            *  *  \n",
            "        *  *  *  \n",
            "    *  *  *  *  \n",
            "*  *  *  *  *  \n"
          ]
        }
      ]
    },
    {
      "cell_type": "code",
      "source": [
        "for i in range(5,0,-1):\n",
        "  for j in range(i,6):\n",
        "   print(i,end=\"\")\n",
        "  print()"
      ],
      "metadata": {
        "colab": {
          "base_uri": "https://localhost:8080/"
        },
        "id": "7qOnwXGhPmzj",
        "outputId": "c90d33cb-abd6-4913-b04d-7061f30e4265"
      },
      "execution_count": null,
      "outputs": [
        {
          "output_type": "stream",
          "name": "stdout",
          "text": [
            "5\n",
            "44\n",
            "333\n",
            "2222\n",
            "11111\n"
          ]
        }
      ]
    },
    {
      "cell_type": "code",
      "source": [
        "rows=70\n",
        "for i in range(65,rows):\n",
        "  for j in range(65,i+1):\n",
        "       print(chr(i),end=\"\")\n",
        "  print(\"\")"
      ],
      "metadata": {
        "colab": {
          "base_uri": "https://localhost:8080/"
        },
        "id": "L7_Mh1HGP5sF",
        "outputId": "3cab6138-572d-4d37-dc88-748c200ef9e3"
      },
      "execution_count": null,
      "outputs": [
        {
          "output_type": "stream",
          "name": "stdout",
          "text": [
            "A\n",
            "BB\n",
            "CCC\n",
            "DDDD\n",
            "EEEEE\n"
          ]
        }
      ]
    }
  ]
}