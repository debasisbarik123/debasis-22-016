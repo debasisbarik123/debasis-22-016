{
  "nbformat": 4,
  "nbformat_minor": 0,
  "metadata": {
    "colab": {
      "provenance": [],
      "authorship_tag": "ABX9TyM8a16XbWiXptRS1JMbIPgj",
      "include_colab_link": true
    },
    "kernelspec": {
      "name": "python3",
      "display_name": "Python 3"
    },
    "language_info": {
      "name": "python"
    }
  },
  "cells": [
    {
      "cell_type": "markdown",
      "metadata": {
        "id": "view-in-github",
        "colab_type": "text"
      },
      "source": [
        "<a href=\"https://colab.research.google.com/github/debasisbarik123/debasis-22-016/blob/main/set2.ipynb\" target=\"_parent\"><img src=\"https://colab.research.google.com/assets/colab-badge.svg\" alt=\"Open In Colab\"/></a>"
      ]
    },
    {
      "cell_type": "code",
      "execution_count": null,
      "metadata": {
        "colab": {
          "base_uri": "https://localhost:8080/"
        },
        "id": "2kMXzqVkHQbm",
        "outputId": "272056db-8069-418a-ec0c-caaa5a9eab59"
      },
      "outputs": [
        {
          "output_type": "stream",
          "name": "stdout",
          "text": [
            "Enter a number: 4\n",
            "1, 2, 3, 4\n"
          ]
        }
      ],
      "source": [
        "def print_series(n):\n",
        "    series = \", \".join(str(i) for i in range(1, n+1))\n",
        "    print(series)\n",
        "\n",
        "# Example usage:\n",
        "n = int(input(\"Enter a number: \"))\n",
        "print_series(n)"
      ]
    },
    {
      "cell_type": "code",
      "source": [
        "def print_odd_series(n):\n",
        "    for i in range(1, n+1, 2):\n",
        "        print(i, end=\", \")\n",
        "        n = int(input(\"Enter the value of n: \"))\n",
        "print(\"Odd series up to\", n, \":\", end=\" \")\n",
        "print_odd_series(n)"
      ],
      "metadata": {
        "colab": {
          "base_uri": "https://localhost:8080/"
        },
        "id": "OfHL53FTHdfR",
        "outputId": "dc73e623-e2a4-4324-81e2-062ca7518a86"
      },
      "execution_count": null,
      "outputs": [
        {
          "name": "stdout",
          "output_type": "stream",
          "text": [
            "Odd series up to 4 : 1, Enter the value of n: 4\n",
            "3, Enter the value of n: 4\n"
          ]
        }
      ]
    },
    {
      "cell_type": "code",
      "source": [
        "def print_even_series(n):\n",
        "    for i in range(2, n+1, 2):\n",
        "        print(i, end=\", \")\n",
        "\n",
        "n = int(input(\"Enter the value of n: \"))\n",
        "print(\"Even series up to\", n, \":\", end=\" \")\n",
        "print_even_series(n)"
      ],
      "metadata": {
        "colab": {
          "base_uri": "https://localhost:8080/"
        },
        "id": "kQUKXm3IHyKh",
        "outputId": "40f1a17c-85c8-46ac-d492-4ad974bcd88f"
      },
      "execution_count": null,
      "outputs": [
        {
          "output_type": "stream",
          "name": "stdout",
          "text": [
            "Enter the value of n: 6\n",
            "Even series up to 6 : 2, 4, 6, "
          ]
        }
      ]
    },
    {
      "cell_type": "code",
      "source": [
        "def print_squared_series(n):\n",
        "    for i in range(1, n+1):\n",
        "        print(i**2, end=\", \")\n",
        "\n",
        "n = int(input(\"Enter the value of n: \"))\n",
        "print(\"Squared series up to\", n, \":\", end=\" \")\n",
        "print_squared_series(n)\n"
      ],
      "metadata": {
        "colab": {
          "base_uri": "https://localhost:8080/"
        },
        "id": "2-Fz6JK8H_fo",
        "outputId": "cc546510-395c-45b5-9584-4671b3b31ced"
      },
      "execution_count": null,
      "outputs": [
        {
          "output_type": "stream",
          "name": "stdout",
          "text": [
            "Enter the value of n: 4\n",
            "Squared series up to 4 : 1, 4, 9, 16, "
          ]
        }
      ]
    },
    {
      "cell_type": "code",
      "source": [
        "def print_squared_odd_series(n):\n",
        "    for i in range(1, n+1, 2):\n",
        "        print(i**2, end=\", \")\n",
        "\n",
        "n = int(input(\"Enter the value of n: \"))\n",
        "print(\"Squared odd series up to\", n, \":\", end=\" \")\n",
        "print_squared_odd_series(n)\n"
      ],
      "metadata": {
        "colab": {
          "base_uri": "https://localhost:8080/"
        },
        "id": "Pm9fWLHJINCi",
        "outputId": "55793c4d-7f1a-4e4e-c91c-f00bebfb8741"
      },
      "execution_count": null,
      "outputs": [
        {
          "output_type": "stream",
          "name": "stdout",
          "text": [
            "Enter the value of n: 5\n",
            "Squared odd series up to 5 : 1, 9, 25, "
          ]
        }
      ]
    },
    {
      "cell_type": "code",
      "source": [
        "def print_squared_even_series(n):\n",
        "    for i in range(2, n+1, 2):\n",
        "        print(i**2, end=\", \")\n",
        "\n",
        "n = int(input(\"Enter the value of n: \"))\n",
        "print(\"Squared even series up to\", n, \":\", end=\" \")\n",
        "print_squared_even_series(n)\n"
      ],
      "metadata": {
        "colab": {
          "base_uri": "https://localhost:8080/"
        },
        "id": "7EIw3oFyIhId",
        "outputId": "151f84f3-0c6b-4c19-d175-8d71f5300352"
      },
      "execution_count": null,
      "outputs": [
        {
          "output_type": "stream",
          "name": "stdout",
          "text": [
            "Enter the value of n: 6\n",
            "Squared even series up to 6 : 4, 16, 36, "
          ]
        }
      ]
    },
    {
      "cell_type": "code",
      "source": [
        "def print_power_series(n, r):\n",
        "    for i in range(1, n+1):\n",
        "        print(i ** r, end=\", \")\n",
        "\n",
        "r = int(input(\"Enter the value of r: \"))\n",
        "n = int(input(\"Enter the value of n: \"))\n",
        "print(\"Series up to\", n, \"raised to the power of\", r, \":\", end=\" \")\n",
        "print_power_series(n, r)\n"
      ],
      "metadata": {
        "colab": {
          "base_uri": "https://localhost:8080/"
        },
        "id": "4KgkNe9WIuM1",
        "outputId": "76b2e62f-d837-4fb8-ffc0-0bf992778ca5"
      },
      "execution_count": null,
      "outputs": [
        {
          "output_type": "stream",
          "name": "stdout",
          "text": [
            "Enter the value of r: 4\n",
            "Enter the value of n: 4\n",
            "Series up to 4 raised to the power of 4 : 1, 16, 81, 256, "
          ]
        }
      ]
    },
    {
      "cell_type": "code",
      "source": [
        "def print_odd_power_series(n, r):\n",
        "    for i in range(1, n+1, 2):\n",
        "        print(i ** r, end=\", \")\n",
        "\n",
        "r = int(input(\"Enter the value of r: \"))\n",
        "n = int(input(\"Enter the value of n: \"))\n",
        "print(\"Series of odd num to the pow of\", r, \"up to\", n, \":\", end=\" \")\n",
        "print_odd_power_series(n, r)\n"
      ],
      "metadata": {
        "colab": {
          "base_uri": "https://localhost:8080/"
        },
        "id": "SYv0670LI-ZB",
        "outputId": "b5f0d08a-cd61-4381-f6fd-e992d0f2b2ac"
      },
      "execution_count": null,
      "outputs": [
        {
          "output_type": "stream",
          "name": "stdout",
          "text": [
            "Enter the value of r: 4\n",
            "Enter the value of n: 5\n",
            "Series of odd num to the pow of 4 up to 5 : 1, 81, 625, "
          ]
        }
      ]
    },
    {
      "cell_type": "code",
      "source": [
        "def print_even_power_series(n, r):\n",
        "    for i in range(2, n+1, 2):\n",
        "        print(i ** r, end=\", \")\n",
        "\n",
        "r = int(input(\"Enter the value of r: \"))\n",
        "n = int(input(\"Enter the value of n: \"))\n",
        "print(\"Series of even num to the power of\", r, \"up to\", n, \":\", end=\" \")\n",
        "print_even_power_series(n, r)\n"
      ],
      "metadata": {
        "colab": {
          "base_uri": "https://localhost:8080/"
        },
        "id": "V73OY56zJPVn",
        "outputId": "333e89bd-8f43-48b9-dca6-28ca778a5ce7"
      },
      "execution_count": null,
      "outputs": [
        {
          "output_type": "stream",
          "name": "stdout",
          "text": [
            "Enter the value of r: 4\n",
            "Enter the value of n: 4\n",
            "Series of even num to the power of 4 up to 4 : 16, 256, "
          ]
        }
      ]
    },
    {
      "cell_type": "code",
      "source": [
        "def factorial_iterative(n):\n",
        "    factorial = 1\n",
        "    for i in range(1, n + 1):\n",
        "        factorial *= i\n",
        "    return factorial\n",
        "\n",
        "# Input\n",
        "n = int(input(\"Enter a number: \"))\n",
        "\n",
        "# Calculating factorial using iterative approach\n",
        "result = factorial_iterative(n)\n",
        "print(\"Factorial of\", n, \"is\", result)\n"
      ],
      "metadata": {
        "colab": {
          "base_uri": "https://localhost:8080/"
        },
        "id": "Od9DkkFNJYav",
        "outputId": "45e63856-4a8d-4227-801b-6ac9745c9024"
      },
      "execution_count": null,
      "outputs": [
        {
          "output_type": "stream",
          "name": "stdout",
          "text": [
            "Enter a number: 4\n",
            "Factorial of 4 is 24\n"
          ]
        }
      ]
    },
    {
      "cell_type": "code",
      "source": [
        "def factorial(num):\n",
        "    if num == 0:\n",
        "        return 1\n",
        "    else:\n",
        "        return num * factorial(num - 1)\n",
        "\n",
        "def print_factorials(n):\n",
        "    for i in range(1, n + 1):\n",
        "        print(i, \"!\", factorial(i))\n",
        "\n",
        "# Input\n",
        "n = int(input(\"Enter a number: \"))\n",
        "\n",
        "# Print factorials from 1! to n!\n",
        "print(\"Factorials from 1! to\", n, \"!\")\n",
        "print_factorials(n)\n"
      ],
      "metadata": {
        "colab": {
          "base_uri": "https://localhost:8080/"
        },
        "id": "5WuzDI56Jicd",
        "outputId": "c51ab7bf-d4a0-476e-a6db-132b5ab109b4"
      },
      "execution_count": null,
      "outputs": [
        {
          "output_type": "stream",
          "name": "stdout",
          "text": [
            "Enter a number: 4\n",
            "Factorials from 1! to 4 !\n",
            "1 ! 1\n",
            "2 ! 2\n",
            "3 ! 6\n",
            "4 ! 24\n"
          ]
        }
      ]
    },
    {
      "cell_type": "code",
      "source": [
        "def factorial(num):\n",
        "    if num == 0:\n",
        "        return 1\n",
        "    else:\n",
        "        return num * factorial(num - 1)\n",
        "\n",
        "def print_odd_factorials(n):\n",
        "    for i in range(1, n + 1, 2):\n",
        "        print(i, \"!\", factorial(i))\n",
        "\n",
        "# Input\n",
        "n = int(input(\"Enter a number: \"))\n",
        "\n",
        "# Print factorials of odd numbers from 1! to n!\n",
        "print(\"Factorials of odd numbers from 1! to\", n, \"!\")\n",
        "print_odd_factorials(n)\n"
      ],
      "metadata": {
        "colab": {
          "base_uri": "https://localhost:8080/"
        },
        "id": "G10rnn7BJp9t",
        "outputId": "cb785eb7-bd74-4079-ae20-b390062b6193"
      },
      "execution_count": null,
      "outputs": [
        {
          "output_type": "stream",
          "name": "stdout",
          "text": [
            "Enter a number: 4\n",
            "Factorials of odd numbers from 1! to 4 !\n",
            "1 ! 1\n",
            "3 ! 6\n"
          ]
        }
      ]
    },
    {
      "cell_type": "code",
      "source": [
        "def factorial(num):\n",
        "    if num == 0:\n",
        "        return 1\n",
        "    else:\n",
        "        return num * factorial(num - 1)\n",
        "\n",
        "def print_even_factorials(start, n):\n",
        "    for i in range(start, n + 1, 2):\n",
        "        print(i, \"!\", factorial(i))\n",
        "\n",
        "# Input\n",
        "n = int(input(\"Enter a number: \"))\n",
        "\n",
        "# Print factorials of even numbers starting from 4! to n!\n",
        "print(\"Factorials of even numbers starting from 4! to\", n, \"!\")\n",
        "print_even_factorials(2, n)\n"
      ],
      "metadata": {
        "colab": {
          "base_uri": "https://localhost:8080/"
        },
        "id": "M3z70PuFJyDO",
        "outputId": "a6be2f62-264c-4922-ba90-e69a51c064d1"
      },
      "execution_count": null,
      "outputs": [
        {
          "output_type": "stream",
          "name": "stdout",
          "text": [
            "Enter a number: 5\n",
            "Factorials of even numbers starting from 4! to 5 !\n",
            "2 ! 2\n",
            "4 ! 24\n"
          ]
        }
      ]
    },
    {
      "cell_type": "code",
      "source": [
        "def calculate_sum(n):\n",
        "    total = 0\n",
        "    for i in range(1, n + 1):\n",
        "        total += i\n",
        "    return total\n",
        "\n",
        "n = int(input(\"Enter the value of n: \"))\n",
        "result = calculate_sum(n)\n",
        "print(\"The sum of the series 1+2+3+4+...+{} is: {}\".format(n, result))\n"
      ],
      "metadata": {
        "colab": {
          "base_uri": "https://localhost:8080/"
        },
        "id": "FipUK8DVJ5Zv",
        "outputId": "bbb4d2e8-faa4-456a-ead7-26b7cc16dbae"
      },
      "execution_count": null,
      "outputs": [
        {
          "output_type": "stream",
          "name": "stdout",
          "text": [
            "Enter the value of n: 4\n",
            "The sum of the series 1+2+3+4+...+4 is: 10\n"
          ]
        }
      ]
    },
    {
      "cell_type": "code",
      "source": [
        "def calculate_sum(n):\n",
        "    total = 0\n",
        "    for i in range(1, n + 1, 2):  # Increment by 2 to get odd numbers\n",
        "        total += i\n",
        "    return total\n",
        "\n",
        "n = int(input(\"Enter the value of n: \"))\n",
        "result = calculate_sum(n)\n",
        "print(\"The sum of the series 1+3+5+...+{} is: {}\".format(n, result))\n"
      ],
      "metadata": {
        "colab": {
          "base_uri": "https://localhost:8080/"
        },
        "id": "BJv8gOPEKGPG",
        "outputId": "4d42898a-dc4a-43bd-8a90-f2ba64beaba6"
      },
      "execution_count": null,
      "outputs": [
        {
          "output_type": "stream",
          "name": "stdout",
          "text": [
            "Enter the value of n: 5\n",
            "The sum of the series 1+3+5+...+5 is: 9\n"
          ]
        }
      ]
    },
    {
      "cell_type": "code",
      "source": [
        "def calculate_sum(n):\n",
        "    total = 0\n",
        "    for i in range(2, n + 1, 2):  # Increment by 2 to get even numbers\n",
        "        total += i\n",
        "    return total\n",
        "\n",
        "n = int(input(\"Enter the value of n: \"))\n",
        "result = calculate_sum(n)\n",
        "print(\"The sum of the series 2+4+6+...+{} is: {}\".format(n, result))\n"
      ],
      "metadata": {
        "colab": {
          "base_uri": "https://localhost:8080/"
        },
        "id": "oltWYgs1KO2R",
        "outputId": "a20382f7-7706-4218-ad44-45ea9eb08309"
      },
      "execution_count": null,
      "outputs": [
        {
          "output_type": "stream",
          "name": "stdout",
          "text": [
            "Enter the value of n: 4\n",
            "The sum of the series 2+4+6+...+4 is: 6\n"
          ]
        }
      ]
    },
    {
      "cell_type": "code",
      "source": [
        "def calculate_sum_of_squares(n):\n",
        "    total = 0\n",
        "    for i in range(1, n + 1):\n",
        "        total += i ** 2\n",
        "    return total\n",
        "\n",
        "n = int(input(\"Enter the value of n: \"))\n",
        "result = calculate_sum_of_squares(n)\n",
        "print(\"The sum of  1^2 + 2^2 + 3^2 + ... + {}^2 is: {}\".format(n, result))\n"
      ],
      "metadata": {
        "colab": {
          "base_uri": "https://localhost:8080/"
        },
        "id": "2nYq83o9KVzF",
        "outputId": "02f8b962-d3d0-4bd4-fcca-96bf8bc9de8b"
      },
      "execution_count": null,
      "outputs": [
        {
          "output_type": "stream",
          "name": "stdout",
          "text": [
            "Enter the value of n: 4\n",
            "The sum of  1^2 + 2^2 + 3^2 + ... + 4^2 is: 30\n"
          ]
        }
      ]
    },
    {
      "cell_type": "code",
      "source": [
        "def calculate_sum_of_squares(n):\n",
        "    total = 0\n",
        "    for i in range(2, n + 1, 2):\n",
        "        total += i ** 2\n",
        "    return total\n",
        "\n",
        "n = int(input(\"Enter the value of n: \"))\n",
        "result = calculate_sum_of_squares(n)\n",
        "print(\"The sum of the  2^2 + 4^2 + ... + {}^2 is: {}\".format(n, result))\n"
      ],
      "metadata": {
        "colab": {
          "base_uri": "https://localhost:8080/"
        },
        "id": "O3YgCvFhKfq4",
        "outputId": "94ae7445-a4f6-4721-dc53-c6baf0ceb5a6"
      },
      "execution_count": null,
      "outputs": [
        {
          "output_type": "stream",
          "name": "stdout",
          "text": [
            "Enter the value of n: 5\n",
            "The sum of the  2^2 + 4^2 + ... + 5^2 is: 20\n"
          ]
        }
      ]
    },
    {
      "cell_type": "code",
      "source": [
        "def calculate_sum_of_squares(n):\n",
        "    total = 0\n",
        "    for i in range(1, n + 1, 2):\n",
        "        total += i ** 2\n",
        "    return total\n",
        "\n",
        "n = int(input(\"Enter the value of n: \"))\n",
        "result = calculate_sum_of_squares(n)\n",
        "print(\"The sum of the  1^2 + 3^2 + ... + {}^2 is: {}\".format(n, result))\n"
      ],
      "metadata": {
        "colab": {
          "base_uri": "https://localhost:8080/"
        },
        "id": "xyyKe2CeKm4w",
        "outputId": "ff3aaa2f-d05f-49d4-9aa4-4d956079ba99"
      },
      "execution_count": null,
      "outputs": [
        {
          "output_type": "stream",
          "name": "stdout",
          "text": [
            "Enter the value of n: 4\n",
            "The sum of the  1^2 + 3^2 + ... + 4^2 is: 10\n"
          ]
        }
      ]
    },
    {
      "cell_type": "code",
      "source": [
        "def calculate_sum_of_powers(n, r):\n",
        "    total = 0\n",
        "    for i in range(1, n + 1):\n",
        "        total += i ** r\n",
        "    return total\n",
        "\n",
        "n = int(input(\"Enter the value of n: \"))\n",
        "r = int(input(\"Enter the value of r: \"))\n",
        "\n",
        "result = calculate_sum_of_powers(n, r)\n",
        "print(f\"The sum of the series 1^{r} + 2^{r} + ... + {n}^{r} is: {result}\")\n"
      ],
      "metadata": {
        "colab": {
          "base_uri": "https://localhost:8080/"
        },
        "id": "7zCxm9iIKxrk",
        "outputId": "be61016a-7226-411b-8752-7a559c2b9337"
      },
      "execution_count": null,
      "outputs": [
        {
          "output_type": "stream",
          "name": "stdout",
          "text": [
            "Enter the value of n: 6\n",
            "Enter the value of r: 4\n",
            "The sum of the series 1^4 + 2^4 + ... + 6^4 is: 2275\n"
          ]
        }
      ]
    },
    {
      "cell_type": "code",
      "source": [
        "def calculate_sum_of_powers(n, r):\n",
        "    total = 0\n",
        "    for i in range(1, n + 1, 2):\n",
        "        total += i ** r\n",
        "    return total\n",
        "\n",
        "n = int(input(\"Enter the value of n: \"))\n",
        "r = int(input(\"Enter the value of r: \"))\n",
        "\n",
        "result = calculate_sum_of_powers(n, r)\n",
        "print(f\"The sum of the 1^{r} + 3^{r} + ... + {n}^{r} is: {result}\")\n"
      ],
      "metadata": {
        "colab": {
          "base_uri": "https://localhost:8080/"
        },
        "id": "qsnkZWSTK8aE",
        "outputId": "9f561d73-a725-476c-f55a-2305b46f5d63"
      },
      "execution_count": null,
      "outputs": [
        {
          "output_type": "stream",
          "name": "stdout",
          "text": [
            "Enter the value of n: 5\n",
            "Enter the value of r: 4\n",
            "The sum of the 1^4 + 3^4 + ... + 5^4 is: 707\n"
          ]
        }
      ]
    },
    {
      "cell_type": "code",
      "source": [
        "def calculate_sum_of_powers(n, r):\n",
        "    total = 0\n",
        "    for i in range(2, n + 1, 2):\n",
        "        total += i ** r\n",
        "    return total\n",
        "\n",
        "n = int(input(\"Enter the value of n: \"))\n",
        "r = int(input(\"Enter the value of r: \"))\n",
        "\n",
        "result = calculate_sum_of_powers(n, r)\n",
        "print(f\"The sum of the series 2^{r} + 4^{r} + ... + {n}^{r} is: {result}\")\n"
      ],
      "metadata": {
        "colab": {
          "base_uri": "https://localhost:8080/"
        },
        "id": "Q-oAND0cLE5V",
        "outputId": "5e0678b4-81fc-40e6-bf9d-2c61964424e6"
      },
      "execution_count": null,
      "outputs": [
        {
          "output_type": "stream",
          "name": "stdout",
          "text": [
            "Enter the value of n: 4\n",
            "Enter the value of r: 4\n",
            "The sum of the series 2^4 + 4^4 + ... + 4^4 is: 272\n"
          ]
        }
      ]
    },
    {
      "cell_type": "code",
      "source": [
        "def factorial(num):\n",
        "    if num == 0:\n",
        "        return 1\n",
        "    else:\n",
        "        fact = 1\n",
        "        for i in range(1, num + 1):\n",
        "            fact *= i\n",
        "        return fact\n",
        "\n",
        "def calculate_sum_of_factorials(n):\n",
        "    total = 0\n",
        "    for i in range(1, n + 1):\n",
        "        total += factorial(i)\n",
        "    return total\n",
        "\n",
        "n = int(input(\"Enter the value of n: \"))\n",
        "result = calculate_sum_of_factorials(n)\n",
        "print(\"The sum of the  1! + 2! + 3! + ... + {}! is: {}\".format(n, result))\n"
      ],
      "metadata": {
        "colab": {
          "base_uri": "https://localhost:8080/"
        },
        "id": "77fLQTBDLNT5",
        "outputId": "a4de2aae-b456-473a-eee8-2b9d9675d4ad"
      },
      "execution_count": null,
      "outputs": [
        {
          "output_type": "stream",
          "name": "stdout",
          "text": [
            "Enter the value of n: 6\n",
            "The sum of the  1! + 2! + 3! + ... + 6! is: 873\n"
          ]
        }
      ]
    },
    {
      "cell_type": "code",
      "source": [
        "def factorial(num):\n",
        "    if num == 0:\n",
        "        return 1\n",
        "    else:\n",
        "        fact = 1\n",
        "        for i in range(1, num + 1):\n",
        "            fact *= i\n",
        "        return fact\n",
        "\n",
        "def calculate_sum_of_factorials(n):\n",
        "    total = 0\n",
        "    for i in range(1, n + 1, 2):\n",
        "        total += factorial(i)\n",
        "    return total\n",
        "\n",
        "n = int(input(\"Enter the value of n: \"))\n",
        "result = calculate_sum_of_factorials(n)\n",
        "print(\"The sum of the 1! + 3! + 5! + ... + {}! is: {}\".format(n, result))\n"
      ],
      "metadata": {
        "colab": {
          "base_uri": "https://localhost:8080/"
        },
        "id": "PfXJgK6-LVyU",
        "outputId": "bd5025a9-2a0d-450b-9962-62cd5482ce29"
      },
      "execution_count": null,
      "outputs": [
        {
          "output_type": "stream",
          "name": "stdout",
          "text": [
            "Enter the value of n: 5\n",
            "The sum of the 1! + 3! + 5! + ... + 5! is: 127\n"
          ]
        }
      ]
    },
    {
      "cell_type": "code",
      "source": [
        "def factorial(num):\n",
        "    if num == 0:\n",
        "        return 1\n",
        "    else:\n",
        "        fact = 1\n",
        "        for i in range(1, num + 1):\n",
        "            fact *= i\n",
        "        return fact\n",
        "\n",
        "def calculate_sum_of_factorials(n):\n",
        "    total = 0\n",
        "    for i in range(2, n + 1, 2):\n",
        "        total += factorial(i)\n",
        "    return total\n",
        "\n",
        "n = int(input(\"Enter the value of n: \"))\n",
        "result = calculate_sum_of_factorials(n)\n",
        "print(\"The sum of the  2! + 4! + 6! + ... + {}! is: {}\".format(n, result))\n"
      ],
      "metadata": {
        "colab": {
          "base_uri": "https://localhost:8080/"
        },
        "id": "SDMfeWYlLeri",
        "outputId": "bb2c1dc0-59e8-4a4d-ddc6-016c99f642f0"
      },
      "execution_count": null,
      "outputs": [
        {
          "output_type": "stream",
          "name": "stdout",
          "text": [
            "Enter the value of n: 6\n",
            "The sum of the  2! + 4! + 6! + ... + 6! is: 746\n"
          ]
        }
      ]
    },
    {
      "cell_type": "code",
      "source": [
        "def factorial(num):\n",
        "    if num == 0:\n",
        "        return 1\n",
        "    else:\n",
        "        fact = 1\n",
        "        for i in range(1, num + 1):\n",
        "            fact *= i\n",
        "        return fact\n",
        "\n",
        "def calculate_series(n, x):\n",
        "    total = 1  # Initialize total with the first term\n",
        "    for i in range(1, n + 1):\n",
        "        term = (n - i + 1) * x**i / factorial(i)\n",
        "        total += term\n",
        "    return total\n",
        "\n",
        "n = int(input(\"Enter the value of n: \"))\n",
        "x = float(input(\"Enter the value of x: \"))\n",
        "\n",
        "result = calculate_series(n, x)\n",
        "print(f\"The result of the series is: {result}\")\n"
      ],
      "metadata": {
        "colab": {
          "base_uri": "https://localhost:8080/"
        },
        "id": "KCl_fdBjLpTc",
        "outputId": "dd2d78bd-9049-40a5-edaa-324f99bfedb1"
      },
      "execution_count": null,
      "outputs": [
        {
          "output_type": "stream",
          "name": "stdout",
          "text": [
            "Enter the value of n: 6\n",
            "Enter the value of x: 4\n",
            "The result of the series is: 162.42222222222222\n"
          ]
        }
      ]
    },
    {
      "cell_type": "code",
      "source": [
        "def factorial(num):\n",
        "    if num == 0:\n",
        "        return 1\n",
        "    else:\n",
        "        fact = 1\n",
        "        for i in range(1, num + 1):\n",
        "            fact *= i\n",
        "        return fact\n",
        "\n",
        "def calculate_series(n):\n",
        "    total = 1  # Initialize total with the first term\n",
        "    sign = -1  # Initialize sign as negative for the second term\n",
        "    for i in range(1, n + 1):\n",
        "        term = sign * 1 / factorial(i)\n",
        "        total += term\n",
        "        sign *= -1  # Change sign for the next term\n",
        "    return total\n",
        "\n",
        "n = int(input(\"Enter the value of n: \"))\n",
        "\n",
        "result = calculate_series(n)\n",
        "print(\"The result of the series is:\", result)\n"
      ],
      "metadata": {
        "colab": {
          "base_uri": "https://localhost:8080/"
        },
        "id": "5P-eqq9cLw-y",
        "outputId": "96069be6-b638-492e-9adc-704deaceb154"
      },
      "execution_count": null,
      "outputs": [
        {
          "output_type": "stream",
          "name": "stdout",
          "text": [
            "Enter the value of n: 4\n",
            "The result of the series is: 0.37500000000000006\n"
          ]
        }
      ]
    },
    {
      "cell_type": "code",
      "source": [
        "def factorial(num):\n",
        "    if num == 0:\n",
        "        return 1\n",
        "    else:\n",
        "        fact = 1\n",
        "        for i in range(1, num + 1):\n",
        "            fact *= i\n",
        "        return fact\n",
        "\n",
        "def calculate_series(n, x):\n",
        "    total = 0  # Initialize total with 0\n",
        "    for i in range(n + 1):\n",
        "        term = x**i / factorial(i)\n",
        "        total += term\n",
        "    return total\n",
        "\n",
        "n = int(input(\"Enter the value of n: \"))\n",
        "x = float(input(\"Enter the value of x: \"))\n",
        "\n",
        "result = calculate_series(n, x)\n",
        "print(\"The result of the series is:\", result)\n"
      ],
      "metadata": {
        "colab": {
          "base_uri": "https://localhost:8080/"
        },
        "id": "1BoOR27IL4U1",
        "outputId": "46a472e8-8270-4493-83c7-d2f86bbe3a49"
      },
      "execution_count": null,
      "outputs": [
        {
          "output_type": "stream",
          "name": "stdout",
          "text": [
            "Enter the value of n: 5\n",
            "Enter the value of x: 4\n",
            "The result of the series is: 42.86666666666666\n"
          ]
        }
      ]
    },
    {
      "cell_type": "code",
      "source": [
        "def factorial(num):\n",
        "    if num == 0:\n",
        "        return 1\n",
        "    else:\n",
        "        fact = 1\n",
        "        for i in range(1, num + 1):\n",
        "            fact *= i\n",
        "        return fact\n",
        "\n",
        "def calculate_series(n, x):\n",
        "    total = 1  # Initialize total with the first term\n",
        "    sign = -1  # Initialize sign as negative for the second term\n",
        "    for i in range(1, n + 1):\n",
        "        term = sign * x**i / factorial(i)\n",
        "        total += term\n",
        "        sign *= -1  # Change sign for the next term\n",
        "    return total\n",
        "\n",
        "n = int(input(\"Enter the value of n: \"))\n",
        "x = float(input(\"Enter the value of x: \"))\n",
        "\n",
        "result = calculate_series(n, x)\n",
        "print(\"The result of the series is:\", result)\n"
      ],
      "metadata": {
        "colab": {
          "base_uri": "https://localhost:8080/"
        },
        "id": "g17vTujCMBO5",
        "outputId": "463e4a65-cb97-4e3e-e492-f7134c6f499b"
      },
      "execution_count": null,
      "outputs": [
        {
          "output_type": "stream",
          "name": "stdout",
          "text": [
            "Enter the value of n: 5\n",
            "Enter the value of x: 4\n",
            "The result of the series is: -3.533333333333333\n"
          ]
        }
      ]
    },
    {
      "cell_type": "code",
      "source": [
        "import math\n",
        "\n",
        "def series_sum(n):\n",
        "    result = 1  # The first term e^-1 = 1\n",
        "    factorial = 1  # Factorial of 0\n",
        "\n",
        "    for i in range(1, n + 1):\n",
        "        factorial *= i\n",
        "        term = (-1)**i / factorial\n",
        "        result += term\n",
        "\n",
        "    return result\n",
        "\n",
        "# Test the function with a value of n\n",
        "n = int(input(\"Enter the value of n: \"))\n",
        "print(\"Sum of the series:\", series_sum(n))\n"
      ],
      "metadata": {
        "colab": {
          "base_uri": "https://localhost:8080/"
        },
        "id": "DmD7pLapMIiI",
        "outputId": "f61d3fcc-cd66-49c4-d20c-a16428c00eec"
      },
      "execution_count": null,
      "outputs": [
        {
          "output_type": "stream",
          "name": "stdout",
          "text": [
            "Enter the value of n: 5\n",
            "Sum of the series: 0.3666666666666667\n"
          ]
        }
      ]
    },
    {
      "cell_type": "code",
      "source": [
        "def factorial(n):\n",
        "    if n == 0:\n",
        "        return 1\n",
        "    else:\n",
        "        return n * factorial(n - 1)\n",
        "\n",
        "def exponent_series(x, n):\n",
        "    result = 1\n",
        "    for i in range(1, n + 1):\n",
        "        result += (x ** i) / factorial(i)\n",
        "    return result\n",
        "\n",
        "def main():\n",
        "    x = float(input(\"Enter the value of x: \"))\n",
        "    n = int(input(\"Enter the number of terms in the series: \"))\n",
        "    print(\"Series for e^{}:\".format(x))\n",
        "    for i in range(1, n + 1):\n",
        "        if i == 1:\n",
        "            print(\"1\", end=\"\")\n",
        "        else:\n",
        "            print(\" + {}^{} / {}!\".format(x, i, i), end=\"\")\n",
        "    print(\"\\nResult:\", exponent_series(x, n))\n",
        "\n",
        "if __name__ == \"__main__\":\n",
        "    main()\n"
      ],
      "metadata": {
        "colab": {
          "base_uri": "https://localhost:8080/"
        },
        "id": "5GbTIOUCMQFa",
        "outputId": "2987346a-9ede-44a6-82b4-d0a925dc18e9"
      },
      "execution_count": null,
      "outputs": [
        {
          "output_type": "stream",
          "name": "stdout",
          "text": [
            "Enter the value of x: 5\n",
            "Enter the number of terms in the series: 4\n",
            "Series for e^5.0:\n",
            "1 + 5.0^2 / 2! + 5.0^3 / 3! + 5.0^4 / 4!\n",
            "Result: 65.375\n"
          ]
        }
      ]
    },
    {
      "cell_type": "code",
      "source": [
        "def factorial(n):\n",
        "    if n == 0:\n",
        "        return 1\n",
        "    else:\n",
        "        return n * factorial(n - 1)\n",
        "\n",
        "def sin_series(x, n):\n",
        "    result = x\n",
        "    sign = -1\n",
        "    for i in range(1, n + 1):\n",
        "        if i % 2 != 0:\n",
        "            result += (sign * (x ** (2 * i + 1))) / factorial(2 * i + 1)\n",
        "            sign *= -1\n",
        "    return result\n",
        "\n",
        "def main():\n",
        "    x = float(input(\"Enter the value of x in radians: \"))\n",
        "    n = int(input(\"Enter the number of terms in the series: \"))\n",
        "    print(\"Series for sin({}):\".format(x))\n",
        "    for i in range(1, n + 1):\n",
        "        if i == 1:\n",
        "            print(\"{}\".format(x), end=\"\")\n",
        "        else:\n",
        "          print(\"+({})^{} / {}!\".format(x, 2 * i + 1, 2 * i + 1), end=\"\")\n",
        "    print(\"\\nResult:\", sin_series(x, n))\n",
        "\n",
        "if __name__ == \"__main__\":\n",
        "    main()\n"
      ],
      "metadata": {
        "colab": {
          "base_uri": "https://localhost:8080/"
        },
        "id": "zdEjO47VMXmZ",
        "outputId": "09a6316a-908e-4992-b6ce-1e66b202b039"
      },
      "execution_count": null,
      "outputs": [
        {
          "output_type": "stream",
          "name": "stdout",
          "text": [
            "Enter the value of x in radians: 5\n",
            "Enter the number of terms in the series: 2\n",
            "Series for sin(5.0):\n",
            "5.0+(5.0)^5 / 5!\n",
            "Result: -15.833333333333332\n"
          ]
        }
      ]
    },
    {
      "cell_type": "code",
      "source": [
        "def factorial(n):\n",
        "    if n == 0:\n",
        "        return 1\n",
        "    else:\n",
        "        return n * factorial(n - 1)\n",
        "\n",
        "def cos_series(x, n):\n",
        "    result = 1\n",
        "    sign = -1\n",
        "    for i in range(1, n + 1):\n",
        "        if i % 2 == 0:\n",
        "            result += (sign * (x ** (2 * i))) / factorial(2 * i)\n",
        "            sign *= -1\n",
        "    return result\n",
        "\n",
        "def main():\n",
        "    x = float(input(\"Enter the value of x in radians: \"))\n",
        "    n = int(input(\"Enter the number of terms in the series: \"))\n",
        "    print(\"Series for cos({}):\".format(x))\n",
        "    for i in range(1, n + 1):\n",
        "        if i == 1:\n",
        "            print(\"1\", end=\"\")\n",
        "        else:\n",
        "            if i % 2 == 0:\n",
        "                print(\" - ({})^{} / {}!\".format(x, 2 * i, 2 * i), end=\"\")\n",
        "            else:\n",
        "                print(\" + ({})^{} / {}!\".format(x, 2 * i, 2 * i), end=\"\")\n",
        "    print(\"\\nResult:\", cos_series(x, n))\n",
        "\n",
        "if __name__ == \"__main__\":\n",
        "    main()\n"
      ],
      "metadata": {
        "colab": {
          "base_uri": "https://localhost:8080/"
        },
        "id": "fdhTAfexMiSK",
        "outputId": "536c14c9-0bdf-4f66-d253-1b06f885a733"
      },
      "execution_count": null,
      "outputs": [
        {
          "output_type": "stream",
          "name": "stdout",
          "text": [
            "Enter the value of x in radians: 6\n",
            "Enter the number of terms in the series: 4\n",
            "Series for cos(6.0):\n",
            "1 - (6.0)^4 / 4! + (6.0)^6 / 6! - (6.0)^8 / 8!\n",
            "Result: -11.342857142857142\n"
          ]
        }
      ]
    },
    {
      "cell_type": "code",
      "source": [
        "def factorial(n):\n",
        "    if n == 0:\n",
        "        return 1\n",
        "    else:\n",
        "        return n * factorial(n - 1)\n",
        "\n",
        "def series_sum(n):\n",
        "    result = 1\n",
        "    for i in range(1, n + 1):\n",
        "        result += 1 / factorial(i)\n",
        "    return result\n",
        "\n",
        "def main():\n",
        "    n = int(input(\"Enter the number of terms in the series: \"))\n",
        "    print(\"Series for S:\")\n",
        "    for i in range(1, n + 1):\n",
        "        if i == 1:\n",
        "            print(\"1\", end=\"\")\n",
        "        else:\n",
        "            print(\" + 1/{}!\".format(i), end=\"\")\n",
        "    print(\"\\nResult:\", series_sum(n))\n",
        "\n",
        "if __name__ == \"__main__\":\n",
        "    main()\n"
      ],
      "metadata": {
        "colab": {
          "base_uri": "https://localhost:8080/"
        },
        "id": "_Etg1EsaMtAK",
        "outputId": "17f77ffa-40ba-4d1e-ac30-6a673751d2ea"
      },
      "execution_count": null,
      "outputs": [
        {
          "output_type": "stream",
          "name": "stdout",
          "text": [
            "Enter the number of terms in the series: 5\n",
            "Series for S:\n",
            "1 + 1/2! + 1/3! + 1/4! + 1/5!\n",
            "Result: 2.7166666666666663\n"
          ]
        }
      ]
    },
    {
      "cell_type": "code",
      "source": [],
      "metadata": {
        "id": "kWW9URM2M29C"
      },
      "execution_count": null,
      "outputs": []
    }
  ]
}