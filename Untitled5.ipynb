{
  "nbformat": 4,
  "nbformat_minor": 0,
  "metadata": {
    "colab": {
      "provenance": [],
      "authorship_tag": "ABX9TyN9YHk0LpNqDsKZhpd/O/RC",
      "include_colab_link": true
    },
    "kernelspec": {
      "name": "python3",
      "display_name": "Python 3"
    },
    "language_info": {
      "name": "python"
    }
  },
  "cells": [
    {
      "cell_type": "markdown",
      "metadata": {
        "id": "view-in-github",
        "colab_type": "text"
      },
      "source": [
        "<a href=\"https://colab.research.google.com/github/debasisbarik123/debasis-22-016/blob/main/Untitled5.ipynb\" target=\"_parent\"><img src=\"https://colab.research.google.com/assets/colab-badge.svg\" alt=\"Open In Colab\"/></a>"
      ]
    },
    {
      "cell_type": "code",
      "execution_count": 10,
      "metadata": {
        "colab": {
          "base_uri": "https://localhost:8080/"
        },
        "id": "JurbYO6K1_TL",
        "outputId": "f129f2bb-ece2-4c8b-d5d9-23b2be2a1aa5"
      },
      "outputs": [
        {
          "output_type": "stream",
          "name": "stdout",
          "text": [
            "enter the first no5\n",
            "enter the second no5\n",
            "gcd of two no is\n",
            "5\n"
          ]
        }
      ],
      "source": [
        "def gcd_fun(x,y):\n",
        " if(y==0):\n",
        "  return x\n",
        "\n",
        " else:\n",
        "    return gcd_fun(y,x%y)\n",
        "x=int(input(\"enter the first no\"))\n",
        "y=int(input(\"enter the second no\"))\n",
        "num=gcd_fun(x,y)\n",
        "print(\"gcd of two no is\")\n",
        "print(num)"
      ]
    },
    {
      "cell_type": "code",
      "source": [
        "def linear_search(arr, target):\n",
        "    for i in range(len(arr)):\n",
        "        if arr[i] == target:\n",
        "            return i\n",
        "    return -1\n",
        "arr = [4, 2, 8, 1, 5, 9, 3]\n",
        "target = 5\n",
        "result = linear_search(arr, target)\n",
        "if result != -1:\n",
        "    print(f\"Element {target} is present at index {result}.\")\n",
        "else:\n",
        "    print(f\"Element {target} is not present in the array.\")"
      ],
      "metadata": {
        "colab": {
          "base_uri": "https://localhost:8080/"
        },
        "id": "KKO-bNzU8WD6",
        "outputId": "ba06845a-78e2-4451-bc0f-80cb34e329b9"
      },
      "execution_count": 6,
      "outputs": [
        {
          "output_type": "stream",
          "name": "stdout",
          "text": [
            "Element 5 is present at index 4.\n"
          ]
        }
      ]
    },
    {
      "cell_type": "code",
      "source": [
        "def binary_search(arr, target):\n",
        "    left = 0\n",
        "    right = len(arr) - 1\n",
        "\n",
        "    while left <= right:\n",
        "        mid = (left + right) // 2\n",
        "        if arr[mid] == target:\n",
        "            return mid\n",
        "        elif arr[mid] < target:\n",
        "            left = mid + 1\n",
        "        else:\n",
        "            right = mid - 1\n",
        "    return -1\n",
        "arr = [1, 2, 3, 4, 5, 6, 7, 8, 9]\n",
        "target = 9\n",
        "result = binary_search(arr, target)\n",
        "if result != -1:\n",
        "    print(f\"Element {target} is present at index {result}.\")\n",
        "else:\n",
        "    print(f\"Element {target} is not present in the array.\")"
      ],
      "metadata": {
        "colab": {
          "base_uri": "https://localhost:8080/"
        },
        "id": "bR4EzfpmSC3A",
        "outputId": "08c04db3-7efc-464c-fea5-68fd955ad669"
      },
      "execution_count": 5,
      "outputs": [
        {
          "output_type": "stream",
          "name": "stdout",
          "text": [
            "Element 9 is present at index 8.\n"
          ]
        }
      ]
    },
    {
      "cell_type": "code",
      "source": [],
      "metadata": {
        "id": "gq9OYiOHSraA"
      },
      "execution_count": null,
      "outputs": []
    }
  ]
}